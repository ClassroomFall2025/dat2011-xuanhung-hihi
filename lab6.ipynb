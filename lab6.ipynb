{
 "cells": [
  {
   "cell_type": "markdown",
   "id": "fdeff819",
   "metadata": {},
   "source": [
    "# Sinh Viên thực hiện Lab 6 ở Đây"
   ]
  },
  {
   "cell_type": "markdown",
   "id": "acc5d7dc",
   "metadata": {},
   "source": [
    "## Lab 6 - Bài 1"
   ]
  },
  {
   "cell_type": "code",
   "execution_count": null,
   "id": "001e0507",
   "metadata": {},
   "outputs": [],
   "source": [
    "# Code lab 6 bài 1 ở đây"
   ]
  },
  {
   "cell_type": "markdown",
   "id": "c0835310",
   "metadata": {},
   "source": [
    "## Lab 6 - Bài 2"
   ]
  },
  {
   "cell_type": "code",
   "execution_count": null,
   "id": "fa9cb39f",
   "metadata": {},
   "outputs": [],
   "source": [
    "# Code lab 6  bài 2 ở đây"
   ]
  },
  {
   "cell_type": "markdown",
   "id": "0f2483fe",
   "metadata": {},
   "source": [
    "## Lab 6 - Bài 3"
   ]
  },
  {
   "cell_type": "code",
   "execution_count": null,
   "id": "7034990b",
   "metadata": {},
   "outputs": [],
   "source": [
    "# Code lab 6  bài 3 ở đây"
   ]
  },
  {
   "cell_type": "markdown",
   "id": "d36ea3d3",
   "metadata": {},
   "source": [
    "## Lab 6 - Bài 4"
   ]
  },
  {
   "cell_type": "code",
   "execution_count": 8,
   "id": "4c707ec1",
   "metadata": {},
   "outputs": [
    {
     "name": "stdout",
     "output_type": "stream",
     "text": [
      "========================MENU========================\n",
      "1. Nhap danh sach sinh vien\n",
      "2. Xuat thong tin danh sach sinh vien\n",
      "3. Xuat danh sach sinh vien co hoc luc gioi\n",
      "4. Sap xep danh sach sinh vien theo diem\n",
      "5. Thoat\n",
      "====================================================\n",
      "Chon chuc nang truong chinh: \n",
      "Thoat chuong trinh\n"
     ]
    }
   ],
   "source": [
    "menu = {\n",
    "    \"1\": \"Nhap danh sach sinh vien\",\n",
    "    \"2\": \"Xuat thong tin danh sach sinh vien\",\n",
    "    \"3\": \"Xuat danh sach sinh vien co hoc luc gioi\",\n",
    "    \"4\": \"Sap xep danh sach sinh vien theo diem\",\n",
    "    \"5\": \"Thoat\"\n",
    "}\n",
    "while True:\n",
    "    print(\"===\" * 8 + \"MENU\" + \"===\" * 8)\n",
    "    for k, v in menu.items():\n",
    "        print(f\"{k}. {v}\")\n",
    "    print(\"===\" * 8 + \"====\" + \"===\" * 8)\n",
    "    print(\"Chon chuc nang truong chinh: \")\n",
    "    lua_chon = input(\"Nhap  chuc nang truong chinh: \")\n",
    "    match lua_chon:\n",
    "        case \"5\":\n",
    "            print(\"Thoat chuong trinh\")\n",
    "            break\n",
    "        case \"1\":\n",
    "            print(\"Nhap danh sach sinh vien\")\n",
    "            # Gọi hàm nhập danh sách sinh viên ở đây\n",
    "        case \"2\":\n",
    "            print(\"Xuat thong tin danh sach sinh vien\")\n",
    "            # Gọi hàm xuất thông tin danh sách sinh viên ở đây\n",
    "        case \"3\":\n",
    "            print(\"Xuat danh sach sinh vien co hoc luc gioi\")\n",
    "            # Gọi hàm xuất danh sách sinh viên có học lực giỏi ở đây\n",
    "        case \"4\":\n",
    "            print(\"Sap xep danh sach sinh vien theo diem\")\n",
    "            # Gọi hàm sắp xếp danh sách sinh viên theo điểm ở đây\n",
    "        case _:\n",
    "            print(\"Chua chon dung chuc nang\")\n",
    "    \n"
   ]
  },
  {
   "cell_type": "markdown",
   "id": "e2b41d4a",
   "metadata": {},
   "source": [
    "## Lab 6 - Bài 5: bài tập làm thêm"
   ]
  },
  {
   "cell_type": "code",
   "execution_count": null,
   "id": "0e0172f7",
   "metadata": {},
   "outputs": [],
   "source": [
    "# code lab 6  bài làm thêm ở đây "
   ]
  }
 ],
 "metadata": {
  "kernelspec": {
   "display_name": "Python 3",
   "language": "python",
   "name": "python3"
  },
  "language_info": {
   "codemirror_mode": {
    "name": "ipython",
    "version": 3
   },
   "file_extension": ".py",
   "mimetype": "text/x-python",
   "name": "python",
   "nbconvert_exporter": "python",
   "pygments_lexer": "ipython3",
   "version": "3.13.5"
  }
 },
 "nbformat": 4,
 "nbformat_minor": 5
}
