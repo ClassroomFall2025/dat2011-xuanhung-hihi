{
 "cells": [
  {
   "cell_type": "markdown",
   "id": "fdeff819",
   "metadata": {},
   "source": [
    "# Sinh Viên thực hiện Lab 2 ở Đây"
   ]
  },
  {
   "cell_type": "markdown",
   "id": "acc5d7dc",
   "metadata": {},
   "source": [
    "## Lab 2 - Bài 1"
   ]
  },
  {
   "cell_type": "code",
   "execution_count": 1,
   "id": "001e0507",
   "metadata": {},
   "outputs": [
    {
     "name": "stdout",
     "output_type": "stream",
     "text": [
      "Có từ 'con người'.\n",
      "Từ trích ra là: con người\n",
      "In hoa: CON NGƯỜI\n"
     ]
    }
   ],
   "source": [
    "#Bài 1\n",
    "#Lưu bài thơ trong 1 chuỗi (multiline string)\n",
    "tho = \"\"\"Kiếp con người mỏng manh như là gió\n",
    "Sống trên đời có được mấy lần vui\n",
    "Sao phải đau mà không thể mỉm cười\n",
    "Gắng buông nỗi ngậm ngùi nơi quá khứ\n",
    "\n",
    "Nếu có thể sao ta không làm thử\n",
    "Để tâm hồn khắc hai chữ bình an\n",
    "Cho đôi chân bước thanh thản nhẹ nhàng con người\n",
    "Dù hướng đời có muôn ngàn đá sỏi\"\"\"\n",
    "#1. Kiểm tra từ \"con người\" có trong chuỗi hay không\n",
    "if \"con người\" in tho:\n",
    "    print(\"Có từ 'con người'.\")\n",
    "else:\n",
    "    print(\"Không có từ 'con người'.\")\n",
    "#2. Dùng cú pháp trích chuỗi để lấy từ \"con người\"\n",
    "# tìm vị trí xuất hiện đầu tiên\n",
    "vitri = tho.find(\"con người\")\n",
    "if vitri != -1:\n",
    "    trich = tho[vitri : vitri + len(\"con người\")]\n",
    "    print(\"Từ trích ra là:\", trich)\n",
    "#3. Chuyển \"con người\" thành chữ in hoa và in ra\n",
    "print(\"In hoa:\", \"con người\".upper())"
   ]
  },
  {
   "cell_type": "markdown",
   "id": "c0835310",
   "metadata": {},
   "source": [
    "## Lab 2 - Bài 2"
   ]
  },
  {
   "cell_type": "code",
   "execution_count": null,
   "id": "fa9cb39f",
   "metadata": {},
   "outputs": [],
   "source": [
    "#Bài 2\n",
    "#Bài thơ từ bài 1\n",
    "tho = \"\"\"Kiếp con người mỏng manh như là gió\n",
    "Sống trên đời có được mấy lần vui\n",
    "Sao phải đau mà không thể mỉm cười\n",
    "Gắng buông nỗi ngậm ngùi nơi quá khứ\n",
    "\n",
    "Nếu có thể sao ta không làm thử\n",
    "Để tâm hồn khắc hai chữ bình an\n",
    "Cho đôi chân bước thanh thản nhẹ nhàng\n",
    "Dù hướng đời có muôn ngàn đá sỏi\"\"\"\n",
    "\n",
    "#1. Thay thế \"bình an\" bằng \"hạnh phúc\"\n",
    "tho_moi = tho.replace(\"bình an\", \"hạnh phúc\")\n",
    "\n",
    "#2. Ghép thêm cụm vào đầu và cuối\n",
    "tho_moi = '\"...\\n' + tho_moi + '\\n...\"'\n",
    "\n",
    "#3. Xuất bài thơ mới\n",
    "print(tho_moi)"
   ]
  },
  {
   "cell_type": "markdown",
   "id": "0f2483fe",
   "metadata": {},
   "source": [
    "## Lab 2 - Bài 3"
   ]
  },
  {
   "cell_type": "code",
   "execution_count": null,
   "id": "7034990b",
   "metadata": {},
   "outputs": [],
   "source": [
    "#Bài 3\n",
    "#Nhập hệ số a, b\n",
    "a = float(input(\"Nhập a: \"))\n",
    "b = float(input(\"Nhập b: \"))\n",
    "\n",
    "#Giải phương trình ax + b = 0\n",
    "if a == 0:\n",
    "    if b == 0:\n",
    "        print(\"Phương trình có vô số nghiệm\")\n",
    "    else:\n",
    "        print(\"Phương trình vô nghiệm\")\n",
    "else:\n",
    "    x = -b / a\n",
    "    print(\"Phương trình có nghiệm x =\", x)"
   ]
  },
  {
   "cell_type": "markdown",
   "id": "d36ea3d3",
   "metadata": {},
   "source": [
    "## Lab 2 - Bài 4"
   ]
  },
  {
   "cell_type": "code",
   "execution_count": null,
   "id": "4c707ec1",
   "metadata": {},
   "outputs": [],
   "source": [
    "# code lab 2 bài 4 ở đây"
   ]
  },
  {
   "cell_type": "markdown",
   "id": "e2b41d4a",
   "metadata": {},
   "source": [
    "## Lab 2 - Bài 5: bài tập làm thêm"
   ]
  },
  {
   "cell_type": "code",
   "execution_count": null,
   "id": "0e0172f7",
   "metadata": {},
   "outputs": [],
   "source": [
    "# code lab 2  bài làm thêm ở đây "
   ]
  }
 ],
 "metadata": {
  "kernelspec": {
   "display_name": "Python 3",
   "language": "python",
   "name": "python3"
  },
  "language_info": {
   "codemirror_mode": {
    "name": "ipython",
    "version": 3
   },
   "file_extension": ".py",
   "mimetype": "text/x-python",
   "name": "python",
   "nbconvert_exporter": "python",
   "pygments_lexer": "ipython3",
   "version": "3.13.5"
  }
 },
 "nbformat": 4,
 "nbformat_minor": 5
}
