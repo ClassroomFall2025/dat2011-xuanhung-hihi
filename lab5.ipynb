{
 "cells": [
  {
   "cell_type": "markdown",
   "id": "fdeff819",
   "metadata": {},
   "source": [
    "# Sinh Viên thực hiện Lab 5 ở Đây"
   ]
  },
  {
   "cell_type": "markdown",
   "id": "acc5d7dc",
   "metadata": {},
   "source": [
    "## Lab 5 - Bài 1"
   ]
  },
  {
   "cell_type": "code",
   "execution_count": 3,
   "id": "001e0507",
   "metadata": {},
   "outputs": [
    {
     "name": "stdout",
     "output_type": "stream",
     "text": [
      "Tên sản phẩm: Chuột DareU\n",
      "Đơn giá: 150000\n",
      "Giảm giá: 20000\n",
      "Thuế nhập khẩu: 15000.0\n",
      "Giá cuối: 145000.0\n"
     ]
    }
   ],
   "source": [
    "from lab5module import SanPham\n",
    "sp = SanPham(\"Chuột DareU\", 150000, 20000) #(Tên, giá, giảm giá)\n",
    "sp.xuat_thong_tin()"
   ]
  },
  {
   "cell_type": "markdown",
   "id": "c0835310",
   "metadata": {},
   "source": [
    "## Lab 5 - Bài 2"
   ]
  },
  {
   "cell_type": "code",
   "execution_count": 2,
   "id": "fa9cb39f",
   "metadata": {},
   "outputs": [
    {
     "name": "stdout",
     "output_type": "stream",
     "text": [
      "Tên sản phẩm: cornhub premium\n",
      "Đơn giá: 500000.0\n",
      "Giảm giá: 50000.0\n",
      "Thuế nhập khẩu: 50000.0\n",
      "Giá cuối: 500000.0\n",
      "Tên sản phẩm: xhamster\n",
      "Đơn giá: 350000.0\n",
      "Giảm giá: 35000.0\n",
      "Thuế nhập khẩu: 35000.0\n",
      "Giá cuối: 350000.0\n"
     ]
    }
   ],
   "source": [
    "from lab5module import SanPham\n",
    "sp1 = SanPham()\n",
    "sp2 = SanPham()\n",
    "sp1.nhap()\n",
    "sp2.nhap()\n",
    "sp1.xuat_thong_tin()\n",
    "sp2.xuat_thong_tin()"
   ]
  },
  {
   "cell_type": "markdown",
   "id": "0f2483fe",
   "metadata": {},
   "source": [
    "## Lab 5 - Bài 3"
   ]
  },
  {
   "cell_type": "code",
   "execution_count": null,
   "id": "7034990b",
   "metadata": {},
   "outputs": [],
   "source": [
    "from lab5module import SanPham\n",
    "sp1 = SanPham()\n",
    "sp2 = SanPham()\n",
    "sp1.nhap()\n",
    "sp2.nhap()\n",
    "sp1.xuat_thong_tin()\n",
    "sp2.xuat_thong_tin()"
   ]
  },
  {
   "cell_type": "markdown",
   "id": "d36ea3d3",
   "metadata": {},
   "source": [
    "## Lab 5 - Bài 4"
   ]
  },
  {
   "cell_type": "code",
   "execution_count": null,
   "id": "4c707ec1",
   "metadata": {},
   "outputs": [],
   "source": [
    "from lab5module import SanPham\n",
    "sp = SanPham(\"Bàn phím\", 1500000, 20000) #(Tên, giá, giảm giá)\n",
    "sp.xuat_thong_tin()"
   ]
  },
  {
   "cell_type": "markdown",
   "id": "e2b41d4a",
   "metadata": {},
   "source": [
    "## Lab 5 - Bài 5: bài tập làm thêm"
   ]
  },
  {
   "cell_type": "code",
   "execution_count": 1,
   "id": "0e0172f7",
   "metadata": {},
   "outputs": [
    {
     "name": "stdout",
     "output_type": "stream",
     "text": [
      "========================MENU CHƯƠNG TRÌNH=======================\n",
      "| 0 : Thoát                                                    |\n",
      "| 1 : Tính cộng trừ nhân chia                                  |\n",
      "| 2 : Tính lũy thừa                                            |\n",
      "| 3 : Tính căn bậc 2                                           |\n",
      "| 4 : Tính hàm lượng giác                                      |\n",
      "| 5 : Tính logarit                                             |\n",
      "| 6 : Giải phương trình bậc 1                                  |\n",
      "| 7 : Giải phương trình bậc 2                                  |\n",
      "| 8 : Xem lịch sử sử dụng                                      |\n",
      "| 9 : Xem đồng hồ                                              |\n",
      "================================================================\n",
      "Tổng = 2.0\n",
      "======Lịch sử======\n",
      "\n",
      "1. Phép tính cơ bản: Tổng = 2.0\n",
      "\n",
      "Thời gian hiện tại 15/20/2025 13:20:06\n"
     ]
    }
   ],
   "source": [
    "from lab5modulemtbt import *\n",
    "mt = Maytinhbotui()\n",
    "mt.hien_menu()\n",
    "mt.thuc_hien_chuc_nang()\n"
   ]
  }
 ],
 "metadata": {
  "kernelspec": {
   "display_name": "Python 3",
   "language": "python",
   "name": "python3"
  },
  "language_info": {
   "codemirror_mode": {
    "name": "ipython",
    "version": 3
   },
   "file_extension": ".py",
   "mimetype": "text/x-python",
   "name": "python",
   "nbconvert_exporter": "python",
   "pygments_lexer": "ipython3",
   "version": "3.13.5"
  }
 },
 "nbformat": 4,
 "nbformat_minor": 5
}
