{
 "cells": [
  {
   "cell_type": "markdown",
   "id": "fdeff819",
   "metadata": {},
   "source": [
    "# Sinh Viên thực hiện Lab 6 ở Đây"
   ]
  },
  {
   "cell_type": "markdown",
   "id": "acc5d7dc",
   "metadata": {},
   "source": [
    "## Lab 6 - Bài 1"
   ]
  },
  {
   "cell_type": "code",
   "execution_count": 8,
   "id": "001e0507",
   "metadata": {},
   "outputs": [
    {
     "name": "stdout",
     "output_type": "stream",
     "text": [
      "Chieu dai la:  9.0\n",
      "Chieu rong la:  6.0\n",
      "Chu vi hcn la:  30.0\n",
      "Dien tich hcn la:  54.0\n",
      "Do dai canh:  5.0\n",
      "Chu vi hinh vuong la:  20.0\n",
      "Dien tich hinh vuong la:  25.0\n"
     ]
    }
   ],
   "source": [
    "class ChuNhat:\n",
    "    def __init__(self,chieu_dai = 0, chieu_rong = 0):\n",
    "        self.dai = chieu_dai\n",
    "        self.rong = chieu_rong\n",
    "    def get_chu_vi(self):\n",
    "        return (self.dai + self.rong) * 2\n",
    "    def get_dien_tich(self):\n",
    "        return self.dai * self.rong\n",
    "    def nhap(self):\n",
    "        self.dai = float(input(\"Nhap chieu dai: \"))\n",
    "        self.rong = float(input(\"Nhap chieu rong: \"))\n",
    "    def xuat(self):\n",
    "        print(\"Chieu dai la: \", self.dai)\n",
    "        print(\"Chieu rong la: \", self.rong)\n",
    "        print(\"Chu vi hcn la: \", self.get_chu_vi())\n",
    "        print(\"Dien tich hcn la: \", self.get_dien_tich())\n",
    "class Vuong(ChuNhat):\n",
    "    def __init__(self, canh = 0):\n",
    "        self.canh = canh\n",
    "        super().__init__(canh, canh)\n",
    "    def get_chu_vi_hinh_vuong(self):\n",
    "        return self.canh * 4\n",
    "    def get_dien_tich_hinh_vuong(self):\n",
    "        return self.canh * self.canh\n",
    "    def nhap(self):\n",
    "        self.canh = float(input(\"Nhap canh: \"))\n",
    "    def xuat(self):\n",
    "        print(\"Do dai canh: \",self.canh)\n",
    "        print(\"Chu vi hinh vuong la: \",self.get_chu_vi_hinh_vuong())\n",
    "        print(\"Dien tich hinh vuong la: \",self.get_dien_tich_hinh_vuong())\n",
    "    \n",
    "hcn = ChuNhat()\n",
    "hcn.nhap()\n",
    "hcn.xuat()\n",
    "hv = Vuong()\n",
    "hv.nhap()\n",
    "hv.xuat()\n",
    "\n",
    "\n"
   ]
  },
  {
   "cell_type": "markdown",
   "id": "c0835310",
   "metadata": {},
   "source": [
    "## Lab 6 - Bài 2"
   ]
  },
  {
   "cell_type": "code",
   "execution_count": null,
   "id": "fa9cb39f",
   "metadata": {},
   "outputs": [],
   "source": [
    "class SinhVienPoly:\n",
    "    def __init__(self, ho_ten = \"\", nganh = \"\"):\n",
    "        self.ho_ten = ho_ten\n",
    "        self.nganh = nganh\n",
    "    def get_diem(self):\n",
    "        pass\n",
    "    def get_hoc_luc(self):\n",
    "        if self.get_diem() >= 9:\n",
    "            return \"Xuat sac\"\n",
    "        elif self.get_diem() >= 8:\n",
    "            return \"Gioi\"\n",
    "        elif self.get_diem() >= 7:\n",
    "            return \"Kha\"\n",
    "        elif self.get_diem() >= 5:\n",
    "            return \"Trung binh\"\n",
    "        else:\n",
    "            return \"Yeu\"\n",
    "    def xuat(self):\n",
    "        print(\"Ho ten sinh vien: \", self.ho_ten)\n",
    "        print(\"Nganh hoc: \", self.nganh)\n",
    "        print(\"Diem: \", self.get_diem())\n",
    "        print(\"Hoc luc: \", self.get_hoc_luc())"
   ]
  },
  {
   "cell_type": "markdown",
   "id": "0f2483fe",
   "metadata": {},
   "source": [
    "## Lab 6 - Bài 3"
   ]
  },
  {
   "cell_type": "code",
   "execution_count": null,
   "id": "7034990b",
   "metadata": {},
   "outputs": [],
   "source": [
    "class SinhVienIT(SinhVienPoly):\n",
    "    def __init__(self, ho_ten, nganh, diem_java = 0, diem_html = 0, diem_css = 0):\n",
    "        super().__init__(ho_ten, nganh)\n",
    "        self.diem_java = diem_java\n",
    "        self.diem_html = diem_html\n",
    "        self.diem_css = diem_css\n",
    "    def get_diem(self):\n",
    "        return (2 * self.diem_java + self.diem_html + self.diem_css) / 4\n",
    "class SinhVienBiz(SinhVienPoly):\n",
    "    def __init__(self, ho_ten, nganh, diem_mkt = 0, diem_sales = 0):\n",
    "        super().__init__(ho_ten, nganh)\n",
    "        self.diem_mkt = diem_mkt\n",
    "        self.diem_sales = diem_sales\n",
    "    def get_diem(self):\n",
    "        return (2 * self.diem_mkt + self.diem_sales) / 3\n"
   ]
  },
  {
   "cell_type": "markdown",
   "id": "d36ea3d3",
   "metadata": {},
   "source": [
    "## Lab 6 - Bài 4"
   ]
  },
  {
   "cell_type": "code",
   "execution_count": 8,
   "id": "4c707ec1",
   "metadata": {},
   "outputs": [
    {
     "name": "stdout",
     "output_type": "stream",
     "text": [
      "========================MENU========================\n",
      "1. Nhap danh sach sinh vien\n",
      "2. Xuat thong tin danh sach sinh vien\n",
      "3. Xuat danh sach sinh vien co hoc luc gioi\n",
      "4. Sap xep danh sach sinh vien theo diem\n",
      "5. Thoat\n",
      "====================================================\n",
      "Chon chuc nang truong chinh: \n",
      "Thoat chuong trinh\n"
     ]
    }
   ],
   "source": [
    "menu = {\n",
    "    \"1\": \"Nhap danh sach sinh vien\",\n",
    "    \"2\": \"Xuat thong tin danh sach sinh vien\",\n",
    "    \"3\": \"Xuat danh sach sinh vien co hoc luc gioi\",\n",
    "    \"4\": \"Sap xep danh sach sinh vien theo diem\",\n",
    "    \"5\": \"Thoat\"\n",
    "}\n",
    "while True:\n",
    "    print(\"===\" * 8 + \"MENU\" + \"===\" * 8)\n",
    "    for k, v in menu.items():\n",
    "        print(f\"{k}. {v}\")\n",
    "    print(\"===\" * 8 + \"====\" + \"===\" * 8)\n",
    "    print(\"Chon chuc nang truong chinh: \")\n",
    "    lua_chon = input(\"Nhap  chuc nang truong chinh: \")\n",
    "    match lua_chon:\n",
    "        case \"5\":\n",
    "            print(\"Thoat chuong trinh\")\n",
    "            break\n",
    "        case \"1\":\n",
    "            print(\"Nhap danh sach sinh vien\")\n",
    "            # Gọi hàm nhập danh sách sinh viên ở đây\n",
    "        case \"2\":\n",
    "            print(\"Xuat thong tin danh sach sinh vien\")\n",
    "            # Gọi hàm xuất thông tin danh sách sinh viên ở đây\n",
    "        case \"3\":\n",
    "            print(\"Xuat danh sach sinh vien co hoc luc gioi\")\n",
    "            # Gọi hàm xuất danh sách sinh viên có học lực giỏi ở đây\n",
    "        case \"4\":\n",
    "            print(\"Sap xep danh sach sinh vien theo diem\")\n",
    "            # Gọi hàm sắp xếp danh sách sinh viên theo điểm ở đây\n",
    "        case _:\n",
    "            print(\"Chua chon dung chuc nang\")\n",
    "    \n"
   ]
  },
  {
   "cell_type": "markdown",
   "id": "e2b41d4a",
   "metadata": {},
   "source": [
    "## Lab 6 - Bài 5: bài tập làm thêm"
   ]
  },
  {
   "cell_type": "code",
   "execution_count": null,
   "id": "0e0172f7",
   "metadata": {},
   "outputs": [],
   "source": [
    "# code lab 6  bài làm thêm ở đây "
   ]
  }
 ],
 "metadata": {
  "kernelspec": {
   "display_name": "Python 3",
   "language": "python",
   "name": "python3"
  },
  "language_info": {
   "codemirror_mode": {
    "name": "ipython",
    "version": 3
   },
   "file_extension": ".py",
   "mimetype": "text/x-python",
   "name": "python",
   "nbconvert_exporter": "python",
   "pygments_lexer": "ipython3",
   "version": "3.13.5"
  }
 },
 "nbformat": 4,
 "nbformat_minor": 5
}
