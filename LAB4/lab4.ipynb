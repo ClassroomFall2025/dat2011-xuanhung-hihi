{
 "cells": [
  {
   "cell_type": "markdown",
   "id": "fdeff819",
   "metadata": {},
   "source": [
    "# Sinh Viên thực hiện Lab 4 ở Đây"
   ]
  },
  {
   "cell_type": "markdown",
   "id": "acc5d7dc",
   "metadata": {},
   "source": [
    "## Lab 1 - Bài 1"
   ]
  },
  {
   "cell_type": "code",
   "execution_count": null,
   "id": "001e0507",
   "metadata": {},
   "outputs": [],
   "source": [
    "#Bai 1:\n",
    "def tinh_tien_nuoc(khoi_nuoc):\n",
    "    if khoi_nuoc <= 10:\n",
    "        tien = khoi_nuoc * 7500 #gia tien nuoc cho 10 khoi dau tien\n",
    "    elif khoi_nuoc <= 20:\n",
    "        tien = 10 * 7500 + (khoi_nuoc - 10) * 8800#gia tien nuoc cho 10 khoi tiep theo\n",
    "    elif khoi_nuoc <= 30:\n",
    "        tien = 10 * 7500 + 10 * 8800 + (khoi_nuoc - 20) * 12000#gia tien nuoc cho 10 khoi tiep theo\n",
    "    else:\n",
    "        tien = 10 * 7500 + 10 * 8800 + 10 * 12000 + (khoi_nuoc - 30) * 24000#gia tien nuoc cho phan con lai\n",
    "    return tien\n",
    "\n",
    "#Nhap so nuoc su dung va kiem tra hop le\n",
    "while True: #kiem tra xem nguoi dung nhap dung kieu du lieu hay k, kieu du lieu phai la so thuc\n",
    "    try:\n",
    "        khoi_nuoc = float(input(\"Nhập số nước đã sử dụng: \"))\n",
    "        break\n",
    "    except ValueError:\n",
    "        print(\"Vui lòng nhập một số hợp lệ!\")\n",
    "\n",
    "tien_nuoc = tinh_tien_nuoc(khoi_nuoc)\n",
    "print(f\"Số tiền nước phải trả: {tien_nuoc:.0f}\")\n",
    "\n"
   ]
  },
  {
   "cell_type": "markdown",
   "id": "c0835310",
   "metadata": {},
   "source": [
    "## Lab 4 - Bài 2"
   ]
  },
  {
   "cell_type": "code",
   "execution_count": null,
   "id": "fa9cb39f",
   "metadata": {},
   "outputs": [
    {
     "name": "stdout",
     "output_type": "stream",
     "text": [
      "Lượng đường cần dùng: 1.44 kg\n",
      "Lượng đậu cần dùng: 0.45 kg\n"
     ]
    }
   ],
   "source": [
    "#Bai 2:\n",
    "def tinh_nguyen_lieu(dau_xanh, thap_cam, deo):\n",
    "    # Tính lượng đường\n",
    "    duong = dau_xanh * 0.04 + thap_cam * 0.06 + deo * 0.05 #kg đường cho mỗi loại bánh\n",
    "    # Tính lượng đậu\n",
    "    dau = dau_xanh * 0.07 + thap_cam * 0.0 + deo * 0.02#kg đậu cho mỗi loại bánh\n",
    "    \n",
    "    # Kết quả trả về dạng dictionary\n",
    "    hop_banh = {\n",
    "        \"Đường\": duong,\n",
    "        \"Đậu\": dau\n",
    "    }\n",
    "    return hop_banh\n",
    "\n",
    "# Nhập số lượng từng loại bánh\n",
    "dau_xanh = int(input(\"Nhập số bánh đậu xanh: \"))\n",
    "thap_cam = int(input(\"Nhập số bánh thập cẩm: \"))\n",
    "deo = int(input(\"Nhập số bánh dẻo: \"))\n",
    "\n",
    "# Gọi hàm tính nguyên liệu\n",
    "ket_qua = tinh_nguyen_lieu(dau_xanh, thap_cam, deo)\n",
    "\n",
    "# In kết quả\n",
    "print(f\"Lượng đường cần dùng: {ket_qua['Đường']} kg\")\n",
    "print(f\"Lượng đậu cần dùng: {ket_qua['Đậu']} kg\")\n"
   ]
  },
  {
   "cell_type": "markdown",
   "id": "0f2483fe",
   "metadata": {},
   "source": [
    "## Lab 4 - Bài 3"
   ]
  },
  {
   "cell_type": "code",
   "execution_count": null,
   "id": "7034990b",
   "metadata": {},
   "outputs": [
    {
     "name": "stdout",
     "output_type": "stream",
     "text": [
      "Các số chẵn trong dãy là: [42, 44, 66, 88, 100]\n",
      "Các số lẻ trong dãy là: [33, 55, 77, 99]\n"
     ]
    }
   ],
   "source": [
    "# Nhập vào dãy số nguyên\n",
    "try:\n",
    "    my_list = list(map(int, input(\"Nhập dãy số nguyên: \").split()))#split() de tach cac so trong chuoi nhap vao\n",
    "except ValueError:\n",
    "    print(\"Lỗi: Vui lòng nhập số nguyên\")\n",
    "    exit() #Thoat chuong trinh neu nguoi dung nhap sai\n",
    "\n",
    "# Dùng hàm filter và lambda để lọc ra các số chẵn\n",
    "new_list = list(filter(lambda x: x % 2 == 0, my_list)) #Tao ra mot danh sach moi chua cac so chia het cho 2(chan)\n",
    "\n",
    "# Xuất kết quả\n",
    "print(\"Các số chẵn trong dãy là:\", new_list)\n",
    "\n"
   ]
  },
  {
   "cell_type": "markdown",
   "id": "d36ea3d3",
   "metadata": {},
   "source": [
    "## Lab 4 - Bài 4"
   ]
  },
  {
   "cell_type": "code",
   "execution_count": null,
   "id": "4c707ec1",
   "metadata": {},
   "outputs": [
    {
     "name": "stdout",
     "output_type": "stream",
     "text": [
      "+---------------------------------+\n",
      "1: Tính tiền nước sinh  hoạt\n",
      "2: Tính nguyên liệu làm bánh\n",
      "3: Kết thúc chương trình\n",
      "+---------------------------------+\n",
      "Chọn chức năng bạn muốn sử dụng\n"
     ]
    },
    {
     "name": "stdout",
     "output_type": "stream",
     "text": [
      "Lượng đường cần dùng: 0.30000000000000004 kg\n",
      "Lượng đậu cần dùng: 0.26 kg\n",
      "+---------------------------------+\n",
      "1: Tính tiền nước sinh  hoạt\n",
      "2: Tính nguyên liệu làm bánh\n",
      "3: Kết thúc chương trình\n",
      "+---------------------------------+\n",
      "Chọn chức năng bạn muốn sử dụng\n",
      "+---------------------------------+\n",
      "1: Tính tiền nước sinh  hoạt\n",
      "2: Tính nguyên liệu làm bánh\n",
      "3: Kết thúc chương trình\n",
      "+---------------------------------+\n",
      "Chọn chức năng bạn muốn sử dụng\n",
      "+---------------------------------+\n",
      "1: Tính tiền nước sinh  hoạt\n",
      "2: Tính nguyên liệu làm bánh\n",
      "3: Kết thúc chương trình\n",
      "+---------------------------------+\n",
      "Chọn chức năng bạn muốn sử dụng\n",
      "Kết thúc chương trình\n"
     ]
    }
   ],
   "source": [
    "\n",
    "from lab4module import tinh_tien_nuoc\n",
    "from lab4module import tinh_nguyen_lieu\n",
    "while True:\n",
    "    print(\"+---------------------------------+\")\n",
    "    print(\"1: Tính tiền nước sinh  hoạt\")\n",
    "    print(\"2: Tính nguyên liệu làm bánh\")\n",
    "    print(\"3: Kết thúc chương trình\")\n",
    "    print(\"+---------------------------------+\")\n",
    "\n",
    "\n",
    "    print(\"Chọn chức năng bạn muốn sử dụng\")\n",
    "    lua_chon = input(\"Nhập 1, 2 hoặc 3:\")\n",
    "    if lua_chon == \"1\":\n",
    "        while True:\n",
    "            try:\n",
    "                khoi_nuoc = float(input(\"Nhập số nước đã sử dụng: \"))\n",
    "                break\n",
    "            except ValueError:\n",
    "                print(\"Vui lòng nhập một số hợp lệ!\")\n",
    "        tien_nuoc = tinh_tien_nuoc(khoi_nuoc)\n",
    "        print(f\"Số tiền nước phải trả: {tien_nuoc:.0f}\")\n",
    "    elif lua_chon == \"2\":\n",
    "        sl_banh_dau_xanh = int(input(\"Nhập số bánh đậu xanh: \"))\n",
    "        sl_banh_thap_cam = int(input(\"Nhập số bánh thập cẩm: \"))\n",
    "        sl_banh_deo = int(input(\"Nhập số bánh dẻo: \"))\n",
    "        ket_qua = tinh_nguyen_lieu(sl_banh_dau_xanh, sl_banh_thap_cam, sl_banh_deo)\n",
    "        print(\"Lượng đường cần dùng:\", ket_qua[\"Đường\"], \"kg\")\n",
    "        print(\"Lượng đậu cần dùng:\", ket_qua[\"Đậu\"], \"kg\")\n",
    "    elif lua_chon == \"3\":\n",
    "        print(\"Kết thúc chương trình\")\n",
    "        break\n"
   ]
  },
  {
   "cell_type": "markdown",
   "id": "e2b41d4a",
   "metadata": {},
   "source": [
    "## Lab 4 - Bài 5: bài tập làm thêm"
   ]
  },
  {
   "cell_type": "code",
   "execution_count": null,
   "id": "0e0172f7",
   "metadata": {},
   "outputs": [
    {
     "name": "stdout",
     "output_type": "stream",
     "text": [
      "===============MENU===============\n",
      "0: Thoát chương trình\n",
      "1: Phép tính cơ bản: Cộng, trừ, nhân, chia\n",
      "2: Lũy thừa: x^y\n",
      "3: Căn bậc hai\n",
      "4: Hàm lượng giác: Sin, cos, tan\n",
      "5: Logarit: Log cơ số 10, ln, log cơ số tùy chọn\n",
      "6: Giải phương trình bậc nhất\n",
      "7: Giải phương trình bậc hai\n",
      "8: Lịch sử: Lưu và xem lại các phép tính đã thực hiện\n",
      "9: Thời gian: Hiển thị thời gian hiện tại\n",
      "==================================\n",
      "Tổng = 6.0\n",
      "Lũy thừa của số 5.0 là 15625.0\n"
     ]
    }
   ],
   "source": [
    "import importlib\n",
    "import lab4module\n",
    "importlib.reload(lab4module)\n",
    "import math\n",
    "from lab4module import *\n",
    "History = []\n",
    "Menu = {\n",
    "    0: \"Thoát chương trình\",\n",
    "    1: \"Phép tính cơ bản: Cộng, trừ, nhân, chia\",\n",
    "    2: \"Lũy thừa: x^y\",\n",
    "    3: \"Căn bậc hai\",\n",
    "    4: \"Hàm lượng giác: Sin, cos, tan\",\n",
    "    5: \"Logarit: Log cơ số 10, ln, log cơ số tùy chọn\",\n",
    "    6: \"Giải phương trình bậc nhất\",\n",
    "    7: \"Giải phương trình bậc hai\",\n",
    "    8: \"Lịch sử: Lưu và xem lại các phép tính đã thực hiện\",\n",
    "    9: \"Thời gian: Hiển thị thời gian hiện tại\",\n",
    "}\n",
    "\n",
    "print(\"===\" * 5 + \"MENU\" + \"===\" * 5)\n",
    "for k, v in Menu.items():\n",
    "    print(f\"{k}: {v}\")\n",
    "print(\"===\" * 5 + \"====\" + \"===\" * 5)\n",
    "while True:\n",
    "    try:\n",
    "        lua_chon = int(input(\"Nhập chức năng: \"))\n",
    "        if lua_chon == 0:\n",
    "            print(\"Thoát chương trình\")\n",
    "            break   \n",
    "        elif lua_chon == 1:\n",
    "            nhap_a = float(input(\"Nhập hệ số a: \"))\n",
    "            nhap_b = float(input(\"Nhập hệ số b: \"))\n",
    "            chon_chuc_nang = input(\"Nhập chọn chức năng: +, -, *, /\")\n",
    "\n",
    "            if chon_chuc_nang == \"+\":\n",
    "                print(f\"Tổng = {tong(nhap_a, nhap_b)}\")\n",
    "                History.append(f\"Phép tính cơ bản: Tổng = {tong(nhap_a, nhap_b)}\")\n",
    "\n",
    "            elif chon_chuc_nang == \"-\":\n",
    "                print(f\"Hiệu = {hieu(nhap_a, nhap_b)}\")\n",
    "                History.append(f\"Phép tính cơ bản: Hiệu = {hieu(nhap_a, nhap_b)}\")\n",
    "\n",
    "            elif chon_chuc_nang == \"*\":\n",
    "                print(f\"Tich = {tich(nhap_a, nhap_b)}\")\n",
    "                History.append(f\"Phép tính cơ bản: Tích = {tich(nhap_a, nhap_b)}\")\n",
    "\n",
    "            elif chon_chuc_nang == \"/\":\n",
    "                if nhap_b == 0:\n",
    "                    print(\"Không thể chia cho 0\")\n",
    "                else:\n",
    "                    print(f\"Thương = {thuong(nhap_a, nhap_b)}\")\n",
    "                    History.append(f\"Phép tính cơ bản: Thương = {thuong(nhap_a, nhap_b)}\")\n",
    "            else: \n",
    "                print(\"Nhập sai chức năng\")\n",
    "                \n",
    "\n",
    "        elif lua_chon == 2:\n",
    "            nhap_a = float(input(\"Nhập hệ số a: \"))\n",
    "            nhap_b = float(input(\"Nhập số mũ: \"))\n",
    "            print(f\"Lũy thừa của số {nhap_a} là {luy_thua(nhap_a, nhap_b)}\")\n",
    "            History.append(f\"Lũy thừa: {luy_thua(nhap_a, nhap_b)}\")\n",
    "\n",
    "        elif lua_chon == 3:\n",
    "            nhap_a = float(input(\"Nhập hệ số a: \"))\n",
    "            print(f\"căn bậc hai của {nhap_a} = {can_bac2(nhap_a)}\")\n",
    "            History.append(f\"Căn: {can_bac2(nhap_a)}\")\n",
    "\n",
    "        elif lua_chon == 4:   \n",
    "            try:\n",
    "                nhap_a = float(input(\"Nhập hệ số a: \"))\n",
    "                chon_chuc_nang = input(\"Chọn hàm lượng giác: Sin, Cos, Tan\\n\")\n",
    "                if chon_chuc_nang == \"Sin\":\n",
    "                    print(f\"Sin của số a là {sin(nhap_a)}\\n\")\n",
    "                    History.append(f\"Sin: {sin(nhap_a)}\")\n",
    "\n",
    "                elif chon_chuc_nang == \"Cos\":\n",
    "                    print(f\"Cos của số a là {cos(nhap_a)}\\n\")\n",
    "                    History.append(f\"Cos: {cos(nhap_a)}\")\n",
    "\n",
    "                elif chon_chuc_nang == \"Tan\":\n",
    "                    print(f\"Tan của số a là {tan(nhap_a)}\\n\")\n",
    "                    History.append(f\"Tan: {tan(nhap_a)}\")\n",
    "\n",
    "                else:\n",
    "                    print(\"Nhập sai chức năng\")\n",
    "            except ValueError:\n",
    "                print(\"Bạn hãy nhập số, không nhập ký tự khác\")\n",
    "\n",
    "        elif lua_chon == 5:\n",
    "            chon_chuc_nang = str(input(\"Chọn log10, ln, log cơ số tùy chọn: \"))\n",
    "            if chon_chuc_nang == \"log10\":\n",
    "                nhap_a = float(input(\"Nhập hệ số a: \"))\n",
    "                print(f\"Log cơ số 10 của số a là {log10(nhap_a)}\\n\")\n",
    "                History.append(f\"Log cơ số 10: {log10(nhap_a)}\")\n",
    "\n",
    "            elif chon_chuc_nang == \"ln\":\n",
    "                nhap_a = float(input(\"Nhập hệ số a: \"))\n",
    "                co_so_log = float(input(\"Nhập cơ số log: \"))\n",
    "                print(f\"Log cơ số tùy chọn của số {nhap_a} với cơ số {co_so_log} là {ln(nhap_a, co_so_log)}\\n\")\n",
    "                History.append(f\"Log cơ số tùy chọn: {ln(nhap_a, co_so_log)}\")\n",
    "\n",
    "            elif chon_chuc_nang == \"log\":\n",
    "                nhap_a = float(input(\"Nhập hệ số a: \"))\n",
    "                print(f\"Log của a là {log(nhap_a)}\\n\")\n",
    "                History.append(f\"Log: {log(nhap_a)}\")\n",
    "\n",
    "        elif lua_chon == 6:\n",
    "            nhap_a = float(input(\"Nhập hệ số a: \"))\n",
    "            nhap_b = float(input(\"Nhap hệ số b\"))\n",
    "            print(f\"Phương trình bậc nhất có nghiệm x = {pt_1(nhap_a, nhap_b)}\")\n",
    "            History.append(f\"Phương trình bậc nhất có nghiệm: x = {pt_1(nhap_a, nhap_b)}\")\n",
    "\n",
    "        elif lua_chon == 7:\n",
    "            nhap_a = float(input(\"Nhập hệ số a: \"))\n",
    "            nhap_b = float(input(\"Nhập hệ số b: \"))\n",
    "            nhap_c = float(input(\"Nhập hệ số c: \"))\n",
    "            print(f\"Nghiệm phương trình bậc hai là: {pt_2(nhap_a, nhap_b, nhap_c)}\")\n",
    "            History.append(f\"Phương trình bậc hai có nghiệm: {pt_2(nhap_a, nhap_b, nhap_c)}\")\n",
    "\n",
    "        elif lua_chon == 8:\n",
    "            print(f\"{check_history(History = History)}\")\n",
    "\n",
    "        elif lua_chon == 9:\n",
    "            print(\"Thời gian hiện tại\", thoi_gian())\n",
    "\n",
    "        else:\n",
    "            print(\"Nhập sai chức năng, vui lòng nhập lại.\")\n",
    "    except ValueError:\n",
    "        print(\"Bạn hãy nhập số không nhập ký tự khác\")"
   ]
  }
 ],
 "metadata": {
  "kernelspec": {
   "display_name": "Python 3",
   "language": "python",
   "name": "python3"
  },
  "language_info": {
   "codemirror_mode": {
    "name": "ipython",
    "version": 3
   },
   "file_extension": ".py",
   "mimetype": "text/x-python",
   "name": "python",
   "nbconvert_exporter": "python",
   "pygments_lexer": "ipython3",
   "version": "3.13.5"
  }
 },
 "nbformat": 4,
 "nbformat_minor": 5
}
