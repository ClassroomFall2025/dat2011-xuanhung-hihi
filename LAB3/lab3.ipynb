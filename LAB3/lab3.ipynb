{
 "cells": [
  {
   "cell_type": "markdown",
   "id": "fdeff819",
   "metadata": {},
   "source": [
    "# Sinh Viên thực hiện Lab 3 ở Đây"
   ]
  },
  {
   "cell_type": "markdown",
   "id": "acc5d7dc",
   "metadata": {},
   "source": [
    "## Lab 3 - Bài 1"
   ]
  },
  {
   "cell_type": "code",
   "execution_count": 7,
   "id": "001e0507",
   "metadata": {},
   "outputs": [
    {
     "name": "stdout",
     "output_type": "stream",
     "text": [
      "Dãy số ban đầu:  [23, 42, 22, 123, 2, 8, 23]\n",
      "Dãy số sau khi sắp xếp là:  [2, 8, 22, 23, 23, 42, 123]\n",
      "Số nhỏ nhất trong dãy là:  2\n",
      "Trung bình cộng các phần tử chia hết cho 3 là:  82.5\n",
      "Dãy số sau khi sắp xếp giảm dần là:  [123, 42, 23, 23, 22, 8, 2]\n",
      "Phần tử nhỏ nhất trong dãy là:  2\n",
      "Vị trí của phần tử nhỏ nhất trong dãy là:  6\n"
     ]
    }
   ],
   "source": [
    "day_so = input(\"Nhập dãy số cách nhau bởi dấu cách: \").split()\n",
    "day_so = [int(x) for x in day_so]\n",
    "print(\"Dãy số ban đầu: \", day_so)\n",
    "# Sắp xếp dãy số\n",
    "day_so.sort()\n",
    "print(\"Dãy số sau khi sắp xếp là: \", day_so)\n",
    "# In ra số lớn nhất và số nhỏ nhất trong dãy\n",
    "print(\"Số nhỏ nhất trong dãy là: \", min(day_so))\n",
    "#Tính trung bình cộng các phần tử chia hết cho 3\n",
    "tong = 0\n",
    "dem = 0\n",
    "for n in day_so:\n",
    "    if n % 3 == 0:\n",
    "        tong += n\n",
    "        dem += 1\n",
    "\n",
    "if dem > 0:\n",
    "    trung_binh_cong = tong / dem\n",
    "    print(\"Trung bình cộng các phần tử chia hết cho 3 là: \", trung_binh_cong)\n",
    "\n",
    "#Săp xếp dãy số theo thứ tự giảm dần\n",
    "day_so.sort(reverse=True)\n",
    "print(\"Dãy số sau khi sắp xếp giảm dần là: \", day_so)\n",
    "print(\"Phần tử nhỏ nhất trong dãy là: \", day_so[-1])\n",
    "#Vị trí của phần tử nhỏ nhất trong dãy\n",
    "vi_tri = day_so.index(day_so[-1])\n",
    "print(\"Vị trí của phần tử nhỏ nhất trong dãy là: \", vi_tri)\n"
   ]
  },
  {
   "cell_type": "markdown",
   "id": "c0835310",
   "metadata": {},
   "source": [
    "## Lab 3 - Bài 2"
   ]
  },
  {
   "cell_type": "code",
   "execution_count": 10,
   "id": "fa9cb39f",
   "metadata": {},
   "outputs": [
    {
     "name": "stdout",
     "output_type": "stream",
     "text": [
      "Thông tin sinh viên:  {'Họ Tên': 'Lê Công T', 'Điểm': 9.0, 'Xếp loại': 'Xuất sắc'}\n",
      "Họ Tên: Lê Công T\n",
      "Điểm: 9.0\n",
      "Xếp loại: Xuất sắc\n"
     ]
    }
   ],
   "source": [
    "#Nhập thông tin sinh viên\n",
    "ho_ten = input(\"Nhập họ tên sinh viên: \")\n",
    "diem = float(input(\"Nhập điểm sinh viên: \"))\n",
    "#Lưu vào dictionary\n",
    "sinh_vien = {\n",
    "    \"Họ Tên\": ho_ten,\n",
    "    \"Điểm\": diem\n",
    "}\n",
    "#Xếp loại theo điểm\n",
    "if diem < 5:\n",
    "    xep_loai = \"Yếu\"\n",
    "elif diem < 7 and diem >= 5:\n",
    "    xep_loai = \"Trung bình\"\n",
    "elif diem < 8 and diem >= 7:\n",
    "    xep_loai = \"Khá\"\n",
    "elif diem < 9 and diem >= 8:\n",
    "    xep_loai = \"Giỏi\"\n",
    "else:\n",
    "    xep_loai = \"Xuất sắc\"\n",
    "\n",
    "#Bổ sung xếp loại vào dictionary\n",
    "sinh_vien[\"Xếp loại\"] = xep_loai\n",
    "\n",
    "#Xuất thông tin sinh viên\n",
    "print(\"Thông tin sinh viên: \", sinh_vien)\n",
    "for key, value in sinh_vien.items():\n",
    "    print(f\"{key}: {value}\")    "
   ]
  },
  {
   "cell_type": "markdown",
   "id": "0f2483fe",
   "metadata": {},
   "source": [
    "## Lab 3 - Bài 3"
   ]
  },
  {
   "cell_type": "code",
   "execution_count": 11,
   "id": "7034990b",
   "metadata": {},
   "outputs": [
    {
     "name": "stdout",
     "output_type": "stream",
     "text": [
      "5 là số nguyên tố\n"
     ]
    }
   ],
   "source": [
    "#Nhập số nguyên từ bàn phím\n",
    "n = int(input(\"Nhập một số nguyên: \"))\n",
    "#Trường hợp n < 2\n",
    "if n < 2:\n",
    "    print(f\"{n} không phải số nguyên tố\")\n",
    "else:\n",
    "    ok = True\n",
    "    i = 2\n",
    "    while i < n:\n",
    "        if n % i == 0:\n",
    "            ok = False\n",
    "            break\n",
    "        i += 1\n",
    "    if ok:\n",
    "        print(f\"{n} là số nguyên tố\")\n",
    "    else:\n",
    "        print(f\"{n} không phải số nguyên tố\")"
   ]
  },
  {
   "cell_type": "markdown",
   "id": "d36ea3d3",
   "metadata": {},
   "source": [
    "## Lab 3 - Bài 4"
   ]
  },
  {
   "cell_type": "code",
   "execution_count": 13,
   "id": "4c707ec1",
   "metadata": {},
   "outputs": [
    {
     "name": "stdout",
     "output_type": "stream",
     "text": [
      "1 x 1 = 1\t2 x 1 = 2\t3 x 1 = 3\t4 x 1 = 4\t5 x 1 = 5\t6 x 1 = 6\t7 x 1 = 7\t8 x 1 = 8\t9 x 1 = 9\t\n",
      "1 x 2 = 2\t2 x 2 = 4\t3 x 2 = 6\t4 x 2 = 8\t5 x 2 = 10\t6 x 2 = 12\t7 x 2 = 14\t8 x 2 = 16\t9 x 2 = 18\t\n",
      "1 x 3 = 3\t2 x 3 = 6\t3 x 3 = 9\t4 x 3 = 12\t5 x 3 = 15\t6 x 3 = 18\t7 x 3 = 21\t8 x 3 = 24\t9 x 3 = 27\t\n",
      "1 x 4 = 4\t2 x 4 = 8\t3 x 4 = 12\t4 x 4 = 16\t5 x 4 = 20\t6 x 4 = 24\t7 x 4 = 28\t8 x 4 = 32\t9 x 4 = 36\t\n",
      "1 x 5 = 5\t2 x 5 = 10\t3 x 5 = 15\t4 x 5 = 20\t5 x 5 = 25\t6 x 5 = 30\t7 x 5 = 35\t8 x 5 = 40\t9 x 5 = 45\t\n",
      "1 x 6 = 6\t2 x 6 = 12\t3 x 6 = 18\t4 x 6 = 24\t5 x 6 = 30\t6 x 6 = 36\t7 x 6 = 42\t8 x 6 = 48\t9 x 6 = 54\t\n",
      "1 x 7 = 7\t2 x 7 = 14\t3 x 7 = 21\t4 x 7 = 28\t5 x 7 = 35\t6 x 7 = 42\t7 x 7 = 49\t8 x 7 = 56\t9 x 7 = 63\t\n",
      "1 x 8 = 8\t2 x 8 = 16\t3 x 8 = 24\t4 x 8 = 32\t5 x 8 = 40\t6 x 8 = 48\t7 x 8 = 56\t8 x 8 = 64\t9 x 8 = 72\t\n",
      "1 x 9 = 9\t2 x 9 = 18\t3 x 9 = 27\t4 x 9 = 36\t5 x 9 = 45\t6 x 9 = 54\t7 x 9 = 63\t8 x 9 = 72\t9 x 9 = 81\t\n"
     ]
    }
   ],
   "source": [
    "#Nhập số i (số trong bảng cửu chương)\n",
    "for i in range(1, 10):\n",
    "#Nhập số j (số nhân)\n",
    "    for j in range(1, 10):\n",
    "        print(\"%d x %d = %d\" % (j, i, j * i), end=\"\\t\")\n",
    "    print()  # In dòng trống sau mỗi bảng cửu chương"
   ]
  },
  {
   "cell_type": "markdown",
   "id": "e2b41d4a",
   "metadata": {},
   "source": [
    "## Lab 3 - Bài 5: bài tập làm thêm"
   ]
  },
  {
   "cell_type": "code",
   "execution_count": 5,
   "id": "0e0172f7",
   "metadata": {},
   "outputs": [
    {
     "name": "stdout",
     "output_type": "stream",
     "text": [
      "Menu:\n",
      "1. Tính toán cơ bản\n",
      "2. Lũy thừa\n",
      "3. Căn bậc hai\n",
      "4. Logarit\n",
      "5. Phương trình bậc nhất\n",
      "6. Phương trình bậc hai\n",
      "7. Hàm lượng giác\n",
      "8. Xem lịch sử tính toán\n",
      "9. Thời gian\n",
      "0. Thoát\n",
      "Kết quả: 44.0\n",
      "Menu:\n",
      "1. Tính toán cơ bản\n",
      "2. Lũy thừa\n",
      "3. Căn bậc hai\n",
      "4. Logarit\n",
      "5. Phương trình bậc nhất\n",
      "6. Phương trình bậc hai\n",
      "7. Hàm lượng giác\n",
      "8. Xem lịch sử tính toán\n",
      "9. Thời gian\n",
      "0. Thoát\n",
      "Lịch sử tính toán:\n",
      "23.0 + 21.0 = 44.0\n",
      "Menu:\n",
      "1. Tính toán cơ bản\n",
      "2. Lũy thừa\n",
      "3. Căn bậc hai\n",
      "4. Logarit\n",
      "5. Phương trình bậc nhất\n",
      "6. Phương trình bậc hai\n",
      "7. Hàm lượng giác\n",
      "8. Xem lịch sử tính toán\n",
      "9. Thời gian\n",
      "0. Thoát\n",
      "Thoát chương trình.\n"
     ]
    }
   ],
   "source": [
    "#Menu tính toán\n",
    "import math\n",
    "import time\n",
    "History = []\n",
    "while True:\n",
    "    print(\"Menu:\")\n",
    "    print(\"1. Tính toán cơ bản\")\n",
    "    print(\"2. Lũy thừa\")\n",
    "    print(\"3. Căn bậc hai\")\n",
    "    print(\"4. Logarit\")\n",
    "    print(\"5. Phương trình bậc nhất\")\n",
    "    print(\"6. Phương trình bậc hai\")\n",
    "    print(\"7. Hàm lượng giác\")\n",
    "    print(\"8. Xem lịch sử tính toán\")\n",
    "    print(\"9. Thời gian\")\n",
    "    print(\"0. Thoát\")\n",
    "    choice = input(\"Chọn một tùy chọn (0-9): \")\n",
    "    if choice == '0':\n",
    "        print(\"Thoát chương trình.\")\n",
    "        break\n",
    "    elif choice == '1':\n",
    "        try:\n",
    "            a = float(input(\"Nhập số thứ nhất: \"))\n",
    "            b = float(input(\"Nhập số thứ hai: \"))\n",
    "            op = input(\"Chọn phép toán (+, -, *, /): \")\n",
    "            if op == '+':\n",
    "                result = a + b\n",
    "            elif op == '-':\n",
    "                result = a - b\n",
    "            elif op == '*':\n",
    "                result = a * b\n",
    "            elif op == '/':\n",
    "                if b != 0:\n",
    "                    result = a / b\n",
    "                else:\n",
    "                    print(\"Lỗi: Chia cho 0\")\n",
    "                    continue\n",
    "            else:\n",
    "                print(\"Phép toán không hợp lệ\")\n",
    "                continue\n",
    "            print(f\"Kết quả: {result}\")\n",
    "            History.append(f\"{a} {op} {b} = {result}\")\n",
    "        except ValueError:\n",
    "            print(\"Lỗi: Vui lòng nhập số hợp lệ\")\n",
    "            History.append(\"Phép tính cơ bản\")\n",
    "    elif choice == '2':\n",
    "        try:\n",
    "            base = float(input(\"Nhập cơ số: \"))\n",
    "            exp = float(input(\"Nhập số mũ: \"))\n",
    "            result = base ** exp\n",
    "            print(f\"Kết quả: {result}\")\n",
    "            History.append(f\"{base}^{exp} = {result}\")\n",
    "        except ValueError:\n",
    "            print(\"Lỗi: Vui lòng nhập số hợp lệ\")\n",
    "            History.append(\"Lũy thừa\")\n",
    "    elif choice == '3':\n",
    "        try:\n",
    "            num = float(input(\"Nhập số: \"))\n",
    "            if num >= 0:\n",
    "                result = math.sqrt(num)\n",
    "                print(f\"Kết quả: {result}\")\n",
    "                History.append(f\"√{num} = {result}\")\n",
    "            else:\n",
    "                print(\"Lỗi: Không thể tính căn bậc hai của số âm\")\n",
    "                History.append(\"Căn bậc hai\")\n",
    "        except ValueError:\n",
    "            print(\"Lỗi: Vui lòng nhập số hợp lệ\")\n",
    "            History.append(\"Căn bậc hai\")\n",
    "    elif choice == '4':\n",
    "        try:\n",
    "            num = float(input(\"Nhập số: \"))\n",
    "            base = float(input(\"Nhập cơ số (mặc định e): \") or math.e)\n",
    "            if num > 0 and base > 0 and base != 1:\n",
    "                result = math.log(num, base)\n",
    "                print(f\"Kết quả: {result}\")\n",
    "                History.append(f\"log_{base}({num}) = {result}\")\n",
    "            else:\n",
    "                print(\"Lỗi: Số và cơ số phải dương, cơ số không được bằng 1\")\n",
    "                History.append(\"Logarit\")\n",
    "        except ValueError:\n",
    "            print(\"Lỗi: Vui lòng nhập số hợp lệ\")\n",
    "            History.append(\"Logarit\")\n",
    "    elif choice == '5':\n",
    "        try:\n",
    "            a = float(input(\"Nhập hệ số a (a ≠ 0): \"))\n",
    "            b = float(input(\"Nhập hệ số b: \"))\n",
    "            if a != 0:\n",
    "                result = -b / a\n",
    "                print(f\"Nghiệm của phương trình {a}x + {b} = 0 là x = {result}\")\n",
    "                History.append(f\"{a}x + {b} = 0, x = {result}\")\n",
    "            else:\n",
    "                print(\"Lỗi: a không được bằng 0\")\n",
    "                History.append(\"Phương trình bậc nhất\")\n",
    "        except ValueError:\n",
    "            print(\"Lỗi: Vui lòng nhập số hợp lệ\")\n",
    "            History.append(\"Phương trình bậc nhất\")\n",
    "    elif choice == '6':\n",
    "        try:\n",
    "            a = float(input(\"Nhập hệ số a (a ≠ 0): \"))\n",
    "            b = float(input(\"Nhập hệ số b: \"))\n",
    "            c = float(input(\"Nhập hệ số c: \"))\n",
    "            if a != 0:\n",
    "                D = b**2 - 4*a*c\n",
    "                if D > 0:\n",
    "                    x1 = (-b + math.sqrt(D)) / (2*a)\n",
    "                    x2 = (-b - math.sqrt(D)) / (2*a)\n",
    "                    print(f\"Phương trình có hai nghiệm phân biệt: x1 = {x1}, x2 = {x2}\")\n",
    "                    History.append(f\"{a}x² + {b}x + {c} = 0, x1 = {x1}, x2 = {x2}\")\n",
    "                elif D == 0:\n",
    "                    x = -b / (2*a)\n",
    "                    print(f\"Phương trình có nghiệm kép: x = {x}\")\n",
    "                    History.append(f\"{a}x² + {b}x + {c} = 0, x = {x}\")\n",
    "                else:\n",
    "                    print(\"Phương trình vô nghiệm\")\n",
    "                    History.append(f\"{a}x² + {b}x + {c} = 0, vô nghiệm\")\n",
    "            else:\n",
    "                print(\"Lỗi: a không được bằng 0\")\n",
    "                History.append(\"Phương trình bậc hai\")\n",
    "        except ValueError:\n",
    "            print(\"Lỗi: Vui lòng nhập số hợp lệ\")\n",
    "            History.append(\"Phương trình bậc hai\")\n",
    "    elif choice == '7':\n",
    "        try:\n",
    "            angle = float(input(\"Nhập góc (độ): \"))\n",
    "            rad = math.radians(angle)\n",
    "            sin_val = math.sin(rad)\n",
    "            cos_val = math.cos(rad)\n",
    "            tan_val = math.tan(rad)\n",
    "            print(f\"sin({angle}) = {sin_val}\")\n",
    "            print(f\"cos({angle}) = {cos_val}\")\n",
    "            print(f\"tan({angle}) = {tan_val}\")\n",
    "            History.append(f\"Góc: {angle}°, sin: {sin_val}, cos: {cos_val}, tan: {tan_val}\")\n",
    "        except ValueError:\n",
    "            print(\"Lỗi: Vui lòng nhập số hợp lệ\")\n",
    "            History.append(\"Hàm lượng giác\")\n",
    "    elif choice == '8':\n",
    "        print(\"Lịch sử tính toán:\")\n",
    "        for record in History:\n",
    "            print(record)\n",
    "    elif choice == '9':\n",
    "        current_time = time.strftime(\"%Y-%m-%d %H:%M:%S\", time.localtime())\n",
    "        print(f\"Thời gian hiện tại: {current_time}\")\n",
    "        History.append(f\"Thời gian xem: {current_time}\")\n",
    "\n"
   ]
  }
 ],
 "metadata": {
  "kernelspec": {
   "display_name": "Python 3",
   "language": "python",
   "name": "python3"
  },
  "language_info": {
   "codemirror_mode": {
    "name": "ipython",
    "version": 3
   },
   "file_extension": ".py",
   "mimetype": "text/x-python",
   "name": "python",
   "nbconvert_exporter": "python",
   "pygments_lexer": "ipython3",
   "version": "3.13.5"
  }
 },
 "nbformat": 4,
 "nbformat_minor": 5
}
