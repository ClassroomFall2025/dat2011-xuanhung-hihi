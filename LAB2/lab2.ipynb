{
 "cells": [
  {
   "cell_type": "markdown",
   "id": "fdeff819",
   "metadata": {},
   "source": [
    "# Sinh Viên thực hiện Lab 2 ở Đây"
   ]
  },
  {
   "cell_type": "markdown",
   "id": "acc5d7dc",
   "metadata": {},
   "source": [
    "## Lab 2 - Bài 1"
   ]
  },
  {
   "cell_type": "code",
   "execution_count": 19,
   "id": "001e0507",
   "metadata": {},
   "outputs": [
    {
     "name": "stdout",
     "output_type": "stream",
     "text": [
      "True\n",
      "Trích thành công từ: bình an\n",
      "Từ bạn cần tìm là: thanh thản\n",
      "In hoa: CON NGƯỜI\n"
     ]
    }
   ],
   "source": [
    "#Bài 1\n",
    "#Lưu bài thơ trong 1 chuỗi (multiline string)\n",
    "tho = \"\"\"Kiếp con người mỏng manh như là gió\n",
    "Sống trên đời có được mấy lần vui\n",
    "Sao phải đau mà không thể mỉm cười\n",
    "Gắng buông nỗi ngậm ngùi nơi quá khứ\n",
    "\n",
    "Nếu có thể sao ta không làm thử\n",
    "Để tâm hồn khắc hai chữ bình an\n",
    "Cho đôi chân bước thanh thản nhẹ nhàng\n",
    "Dù hướng đời có muôn ngàn đá sỏi\"\"\"\n",
    "#1. Kiểm tra từ \"con người\" có trong chuỗi hay không\n",
    "\n",
    "#cách 1\n",
    "# if \"con người\" in tho:\n",
    "#     print(\"Có từ 'con người'.\")\n",
    "# else:\n",
    "#     print(\"Không có từ 'con người'.\")\n",
    "\n",
    "print(\"con người\" in tho)\n",
    "\n",
    "#2. Dùng cú pháp trích chuỗi để lấy từ \"con người\"\n",
    "vitri = tho.find(\"bình an\")\n",
    "trich = tho[vitri : vitri + len(\"bình an\")]\n",
    "print(\"Trích thành công từ:\", trich)\n",
    "\n",
    "searh_string = input(\"Nhập từ cần tìm: \")\n",
    "ketthuc = len(searh_string)\n",
    "timkiem = tho.find(searh_string)\n",
    "tho_trich = tho[timkiem : timkiem + ketthuc]\n",
    "print(\"Từ bạn cần tìm là:\", tho_trich)\n",
    "\n",
    "#3. Chuyển \"con người\" thành chữ in hoa và in ra\n",
    "print(\"In hoa:\", \"con người\".upper())"
   ]
  },
  {
   "cell_type": "markdown",
   "id": "c0835310",
   "metadata": {},
   "source": [
    "## Lab 2 - Bài 2"
   ]
  },
  {
   "cell_type": "code",
   "execution_count": null,
   "id": "fa9cb39f",
   "metadata": {},
   "outputs": [],
   "source": [
    "#Bài 2\n",
    "#Bài thơ từ bài 1\n",
    "tho = \"\"\"Kiếp con người mỏng manh như là gió\n",
    "Sống trên đời có được mấy lần vui\n",
    "Sao phải đau mà không thể mỉm cười\n",
    "Gắng buông nỗi ngậm ngùi nơi quá khứ\n",
    "\n",
    "Nếu có thể sao ta không làm thử\n",
    "Để tâm hồn khắc hai chữ bình an\n",
    "Cho đôi chân bước thanh thản nhẹ nhàng\n",
    "Dù hướng đời có muôn ngàn đá sỏi\"\"\"\n",
    "\n",
    "#1. Thay thế \"bình an\" bằng \"hạnh phúc\"\n",
    "tho_moi = tho.replace(\"bình an\", \"hạnh phúc\")\n",
    "\n",
    "#2. Ghép thêm cụm vào đầu và cuối\n",
    "tho_moi = '\"...\\n' + tho_moi + '\\n...\"'\n",
    "\n",
    "#3. Xuất bài thơ mới\n",
    "print(tho_moi)"
   ]
  },
  {
   "cell_type": "markdown",
   "id": "0f2483fe",
   "metadata": {},
   "source": [
    "## Lab 2 - Bài 3"
   ]
  },
  {
   "cell_type": "code",
   "execution_count": 2,
   "id": "7034990b",
   "metadata": {},
   "outputs": [
    {
     "name": "stdout",
     "output_type": "stream",
     "text": [
      "Phương trình có nghiệm x = -0.5\n"
     ]
    }
   ],
   "source": [
    "#Bài 3\n",
    "#Nhập hệ số a, b\n",
    "so_a = float(input(\"Nhập số a: \"))\n",
    "so_b = float(input(\"Nhập số b: \"))\n",
    "\n",
    "#Giải phương trình ax + b = 0\n",
    "if so_a == 0:\n",
    "    if so_b == 0:\n",
    "        print(\"Phương trình có vô số nghiệm\")\n",
    "    else:\n",
    "        print(\"Phương trình vô nghiệm\")\n",
    "else:\n",
    "    x = -so_b / so_a\n",
    "    print(\"Phương trình có nghiệm x =\", x)"
   ]
  },
  {
   "cell_type": "markdown",
   "id": "d36ea3d3",
   "metadata": {},
   "source": [
    "## Lab 2 - Bài 4"
   ]
  },
  {
   "cell_type": "code",
   "execution_count": null,
   "id": "4c707ec1",
   "metadata": {},
   "outputs": [
    {
     "name": "stdout",
     "output_type": "stream",
     "text": [
      "Phương trình vô nghiệm\n"
     ]
    }
   ],
   "source": [
    "#Bài 4\n",
    "import math\n",
    "#nhập hệ số a, b, c\n",
    "a = float(input(\"Nhập hệ số a: \"))\n",
    "b = float(input(\"Nhập hệ số b: \"))\n",
    "c = float(input(\"Nhập hệ số c: \"))\n",
    "#Giải phương trình bậc nhất bx + c = 0 nếu a = 0\n",
    "if a == 0:\n",
    "    if b == 0:\n",
    "        if c == 0:\n",
    "            print(\"Phương trình có vô số nghiệm\")\n",
    "        else:\n",
    "            print(\"Phương trình vô nghiệm\")\n",
    "    else:\n",
    "        x = -c / b\n",
    "        print(\"Phương trình có nghiệm x =\", x)\n",
    "else: #nếu a ≠ 0 thì giải phương trình bậc hai ax^2 + bx + c = 0\n",
    "    delta = b**2 - 4*a*c\n",
    "    if delta < 0:\n",
    "        print(\"Phương trình vô nghiệm\")\n",
    "    elif delta == 0:\n",
    "        x = -b / (2*a)\n",
    "        print(\"Phương trình có nghiệm kép x =\", x)\n",
    "    else:\n",
    "        x1 = (-b + math.sqrt(delta)) / (2*a)\n",
    "        x2 = (-b - math.sqrt(delta)) / (2*a)\n",
    "        print(\"Phương trình có hai nghiệm phân biệt:\")\n",
    "        print(\"x1 =\", x1)\n",
    "        print(\"x2 =\", x2)\n"
   ]
  },
  {
   "cell_type": "markdown",
   "id": "e2b41d4a",
   "metadata": {},
   "source": [
    "## Lab 2 - Bài 5: bài tập làm thêm"
   ]
  },
  {
   "cell_type": "code",
   "execution_count": 1,
   "id": "0e0172f7",
   "metadata": {},
   "outputs": [
    {
     "name": "stdout",
     "output_type": "stream",
     "text": [
      "Kết quả: 36.0 + 18.0 = 54.0\n"
     ]
    }
   ],
   "source": [
    "import math\n",
    "so_1 = float(input(\"Nhập số thứ nhất: \"))\n",
    "so_2 = float(input(\"Nhập số thứ hai: \"))\n",
    "toan_tu = input(\"Nhập phép toán (+, -, *, /, ^, can_bac_hai, sin, cos, tan, log 10, ln, log_tuy_chon, so_sanh, so_sanh_3_so): \")\n",
    "if toan_tu == \"+\":\n",
    "    ket_qua = so_1 + so_2\n",
    "    print(f\"Kết quả: {so_1} + {so_2} = {ket_qua}\")\n",
    "if toan_tu == \"-\":\n",
    "    ket_qua = so_1 - so_2\n",
    "    print(f\"Kết quả: {so_1} - {so_2} = {ket_qua}\")\n",
    "if toan_tu == \"*\":\n",
    "    ket_qua = so_1 * so_2\n",
    "    print(f\"Kết quả: {so_1} * {so_2} = {ket_qua}\")\n",
    "if toan_tu == \"/\" and so_2 != 0:\n",
    "        ket_qua = so_1 / so_2\n",
    "        print(f\"Kết quả: {so_1} / {so_2} = {ket_qua}\")\n",
    "if toan_tu == \"^\":\n",
    "    ket_qua = math.pow(so_1, so_2)\n",
    "    print(f\"Kết quả: {so_1} ^ {so_2} = {ket_qua}\")\n",
    "if toan_tu == \"can_bac_hai\" and so_1 >= 0:\n",
    "    ket_qua = math.sqrt(so_1)\n",
    "    print(f\"Kết quả: can_bac_hai({so_1}) = {ket_qua}\")\n",
    "if toan_tu == \"sin\":\n",
    "    ket_qua = math.sin(math.radians(so_1))\n",
    "    print(f\"Kết quả: sin({so_1}) = {ket_qua}\")\n",
    "if toan_tu == \"cos\":\n",
    "    ket_qua = math.cos(math.radians(so_1))\n",
    "    print(f\"Kết quả: cos({so_1}) = {ket_qua}\")\n",
    "if toan_tu == \"tan\":\n",
    "    ket_qua = math.tan(math.radians(so_1))\n",
    "    print(f\"Kết quả: tan({so_1}) = {ket_qua}\")\n",
    "if toan_tu == \"log_10\":\n",
    "    ket_qua = math.log10(so_1)\n",
    "    print(f\"Kết quả: log_10({so_1}) = {ket_qua}\")\n",
    "if toan_tu == \"ln\":\n",
    "    ket_qua = math.log(so_1)\n",
    "    print(f\"Kết quả: ln({so_1}) = {ket_qua}\")\n",
    "if toan_tu == \"log_tuy_chon\"    and so_1 > 0 and so_2 > 0 and so_2 != 1:\n",
    "    ket_qua = math.log(so_1, so_2)\n",
    "    print(f\"Kết quả: log_tuy_chon({so_1}, {so_2}) = {ket_qua}\")\n",
    "#Tìm số lon nhất, nhỏ nhất trong 2 số\n",
    "if toan_tu == \"so_sanh\":\n",
    "    if so_1 > so_2:\n",
    "        print(f\"Số lớn nhất là: {so_1}\")\n",
    "        print(f\"Số nhỏ nhất là: {so_2}\")\n",
    "    elif so_1 < so_2:\n",
    "        print(f\"Số lớn nhất là: {so_2}\")\n",
    "        print(f\"Số nhỏ nhất là: {so_1}\")\n",
    "    else:\n",
    "        print(\"Hai số bằng nhau\")\n",
    "if toan_tu == \"so_sanh_3_so\":\n",
    "    so_3 = float(input(\"Nhập số thứ ba: \"))\n",
    "    so_lon_nhat = so_1 if so_1 > so_2 and so_1 > so_3 else so_2 if so_2 > so_1 and so_2 > so_3 else so_3\n",
    "    print(f\"Số lớn nhất là: {so_lon_nhat}\")\n",
    "    so_nho_nhat = so_1 if so_1 < so_2 and so_1 < so_3 else so_2 if so_2 < so_1 and so_2 < so_3 else so_3\n",
    "    print(f\"Số nhỏ nhất là: {so_nho_nhat}\")"
   ]
  }
 ],
 "metadata": {
  "kernelspec": {
   "display_name": "Python 3",
   "language": "python",
   "name": "python3"
  },
  "language_info": {
   "codemirror_mode": {
    "name": "ipython",
    "version": 3
   },
   "file_extension": ".py",
   "mimetype": "text/x-python",
   "name": "python",
   "nbconvert_exporter": "python",
   "pygments_lexer": "ipython3",
   "version": "3.13.5"
  }
 },
 "nbformat": 4,
 "nbformat_minor": 5
}
