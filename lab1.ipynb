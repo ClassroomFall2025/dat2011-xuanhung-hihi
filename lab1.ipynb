{
 "cells": [
  {
   "cell_type": "markdown",
   "id": "fdeff819",
   "metadata": {},
   "source": [
    "# Sinh Viên thực hiện Lab 1 ở Đây"
   ]
  },
  {
   "cell_type": "markdown",
   "id": "acc5d7dc",
   "metadata": {},
   "source": [
    "## Lab 1 - Bài 1"
   ]
  },
  {
   "cell_type": "code",
   "execution_count": 15,
   "id": "001e0507",
   "metadata": {},
   "outputs": [
    {
     "name": "stdout",
     "output_type": "stream",
     "text": [
      "wassup bro\n",
      "tên tui là Nguyễn Xuân Hùng\n",
      "tui đến từ vương quốc Thanh Hóa\n"
     ]
    }
   ],
   "source": [
    "#Bài 1\n",
    "print(\"wassup bro\")\n",
    "print(\"tên tui là Nguyễn Xuân Hùng\")\n",
    "print(\"tui đến từ vương quốc Thanh Hóa\")"
   ]
  },
  {
   "cell_type": "markdown",
   "id": "c0835310",
   "metadata": {},
   "source": [
    "## Lab 1 - Bài 2"
   ]
  },
  {
   "cell_type": "code",
   "execution_count": 14,
   "id": "fa9cb39f",
   "metadata": {},
   "outputs": [
    {
     "name": "stdout",
     "output_type": "stream",
     "text": [
      "Chu vi của HCN là: 12.0\n",
      "Diện tích của HCN là: 8.0\n"
     ]
    }
   ],
   "source": [
    "#Bài 2\n",
    "#Nhập chiều dài và chiều rộng\n",
    "dai = float(input(\"Chiều dài: \"))\n",
    "rong = float(input(\"Chiều rộng: \"))\n",
    "#Tính toán\n",
    "#Chu vi = (dài + rộng)*2\n",
    "chu_vi = (dai + rong) * 2\n",
    "#Diện tích = dài * rộng\n",
    "dien_tich = dai * rong\n",
    "#Kết luận\n",
    "print(\"Chu vi của HCN là:\", chu_vi)\n",
    "print(\"Diện tích của HCN là:\", dien_tich)"
   ]
  },
  {
   "cell_type": "markdown",
   "id": "0f2483fe",
   "metadata": {},
   "source": [
    "## Lab 1 - Bài 3"
   ]
  },
  {
   "cell_type": "code",
   "execution_count": 10,
   "id": "7034990b",
   "metadata": {},
   "outputs": [
    {
     "name": "stdout",
     "output_type": "stream",
     "text": [
      "Sống không giận, không hờn không oán trách\n",
      "Sống mỉm cười, với thử thách chông gai\n",
      "Sống vươn lên, theo kịp ánh ban mai\n",
      "Sống chan hòa, với những người chung sống\n",
      "\n",
      "Sống là động, nhưng lòng luôn bất động\n",
      "Sống là thương, nhưng chẳng vướng lụy vương\n",
      "Sống yên vui, danh lợi mãi coi thường\n",
      "Tâm bất biến, giữa dòng đời vạn biến.\n"
     ]
    }
   ],
   "source": [
    "#Bài 3\n",
    "hihi = \"Sống\" #Đầu tiên khai báo 1 biến để lưu từ sống\n",
    "print(f\"\"\"{hihi} không giận, không hờn không oán trách\n",
    "{hihi} mỉm cười, với thử thách chông gai\n",
    "{hihi} vươn lên, theo kịp ánh ban mai\n",
    "{hihi} chan hòa, với những người chung sống\n",
    "\\n{hihi} là động, nhưng lòng luôn bất động\n",
    "{hihi} là thương, nhưng chẳng vướng lụy vương\n",
    "{hihi} yên vui, danh lợi mãi coi thường\n",
    "Tâm bất biến, giữa dòng đời vạn biến.\"\"\")\n",
    "#tiền tố f trong các hàm là f-string (formatted string literal). Cú pháp: tiền tố f trước dấu '/\"/''' cho phép chèn biểu thức bên trong {}."
   ]
  },
  {
   "cell_type": "markdown",
   "id": "d36ea3d3",
   "metadata": {},
   "source": [
    "## Lab 1 - Bài 4"
   ]
  },
  {
   "cell_type": "code",
   "execution_count": 13,
   "id": "4c707ec1",
   "metadata": {},
   "outputs": [
    {
     "name": "stdout",
     "output_type": "stream",
     "text": [
      "Delta =  -76.0\n",
      "Căn delta < 0 --> không có căn bậc 2\n"
     ]
    }
   ],
   "source": [
    "#Bai 4\n",
    "import math\n",
    "#nhập hệ số\n",
    "a = float(input(\"a: \"))\n",
    "b = float(input(\"b: \"))\n",
    "c = float(input(\"c: \"))\n",
    "#tính delta, công thức: b^2-4ac\n",
    "delta = b * b - 4 * a * c\n",
    "#kết quả\n",
    "print(\"Delta = \", delta)\n",
    "#kiểm tra để tính căn delta\n",
    "if delta >= 0:\n",
    "    can_delta = math.sqrt(delta)\n",
    "    print(\"Căn delta = \", can_delta)\n",
    "else:\n",
    "    print(\"Căn delta < 0 --> không có căn bậc 2\")"
   ]
  },
  {
   "cell_type": "markdown",
   "id": "e2b41d4a",
   "metadata": {},
   "source": [
    "## Lab 1 - Bài 5: bài tập làm thêm"
   ]
  },
  {
   "cell_type": "code",
   "execution_count": 21,
   "id": "0e0172f7",
   "metadata": {},
   "outputs": [
    {
     "name": "stdout",
     "output_type": "stream",
     "text": [
      "Tổng của hai số là:  5.4\n",
      "Hiệu của hai số là:  1.8\n",
      "Tích của hai số là:  6.5\n",
      "Thương của hai số là:  2.0\n",
      "Logarit của hai số là:  2.2\n"
     ]
    }
   ],
   "source": [
    "#Cho 2 số a,b. Tính tổng, hiệu, tích, thương.\n",
    "import math\n",
    "a = float(input(\"Mời quý khách vui lòng nhập số a: \"))\n",
    "b = float(input(\"Mời quý khách vui lòng nhập số b: \"))\n",
    "#Tổng\n",
    "tong = a + b\n",
    "hieu = a - b\n",
    "tich = round((a * b),1)\n",
    "thuong = round((a/b),1)\n",
    "logarit = round(math.log(a,b),1)\n",
    "print(\"Tổng của hai số là: \", tong)\n",
    "print(\"Hiệu của hai số là: \", hieu)\n",
    "print(\"Tích của hai số là: \", tich)\n",
    "print(\"Thương của hai số là: \", thuong)\n",
    "print(\"Logarit của hai số là: \",logarit)"
   ]
  },
  {
   "cell_type": "code",
   "execution_count": null,
   "id": "2ce94e23",
   "metadata": {},
   "outputs": [],
   "source": []
  }
 ],
 "metadata": {
  "kernelspec": {
   "display_name": "Python 3",
   "language": "python",
   "name": "python3"
  },
  "language_info": {
   "name": "python",
   "version": "3.13.2"
  }
 },
 "nbformat": 4,
 "nbformat_minor": 5
}
