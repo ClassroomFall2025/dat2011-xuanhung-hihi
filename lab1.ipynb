{
 "cells": [
  {
   "cell_type": "markdown",
   "id": "fdeff819",
   "metadata": {},
   "source": [
    "# Sinh Viên thực hiện Lab 1 ở Đây"
   ]
  },
  {
   "cell_type": "markdown",
   "id": "acc5d7dc",
   "metadata": {},
   "source": [
    "## Lab 1 - Bài 1"
   ]
  },
  {
   "cell_type": "code",
   "execution_count": 1,
   "id": "001e0507",
   "metadata": {},
   "outputs": [
    {
     "name": "stdout",
     "output_type": "stream",
     "text": [
      "wassup bro\n",
      "tên tui là Nguyễn Xuân Hùng\n",
      "tui đến từ vương quốc Thanh Hóa\n"
     ]
    }
   ],
   "source": [
    "\n",
    "#Bài 1\n",
    "print(\"wassup bro\")\n",
    "print(\"tên tui là Nguyễn Xuân Hùng\")\n",
    "print(\"tui đến từ vương quốc Thanh Hóa\")\n"
   ]
  },
  {
   "cell_type": "markdown",
   "id": "c0835310",
   "metadata": {},
   "source": [
    "## Lab 1 - Bài 2"
   ]
  },
  {
   "cell_type": "code",
   "execution_count": 3,
   "id": "fa9cb39f",
   "metadata": {},
   "outputs": [
    {
     "name": "stdout",
     "output_type": "stream",
     "text": [
      "Chu vi của HCN là: 16.0\n",
      "Diện tích của HCN là: 15.0\n"
     ]
    }
   ],
   "source": [
    "#Bài 2\n",
    "#Nhập chiều dài và chiều rộng\n",
    "dai = float(input(\"Chiều dài: \"))\n",
    "rong = float(input(\"Chiều rộng: \"))\n",
    "#Tính toán\n",
    "#Chu vi = (dài + rộng)*2\n",
    "chu_vi = (dai + rong) * 2\n",
    "#Diện tích = dài * rộng\n",
    "dien_tich = dai * rong\n",
    "#Kết luận\n",
    "print(\"Chu vi của HCN là:\", chu_vi)\n",
    "print(\"Diện tích của HCN là:\", dien_tich)"
   ]
  },
  {
   "cell_type": "markdown",
   "id": "0f2483fe",
   "metadata": {},
   "source": [
    "## Lab 1 - Bài 3"
   ]
  },
  {
   "cell_type": "code",
   "execution_count": 4,
   "id": "7034990b",
   "metadata": {},
   "outputs": [
    {
     "name": "stdout",
     "output_type": "stream",
     "text": [
      "\" Sống không giận, không hờn không oán trách\n",
      "Sống mỉm cười, với thử thách chông gai\n",
      "Sống vươn lên, theo kịp ánh ban mai\n",
      "Sống chan hòa, với những người chung sống.\n",
      "\n",
      "Sống là động, nhưng lòng luôn bất động\n",
      "Sống là thương, nhưng chẳng vướng lụy vương\n",
      "Sống yên vui, danh lợi mãi coi thường\n",
      "Tâm bất biến, giữa dòng đời vạn biến. \"\n"
     ]
    }
   ],
   "source": [
    "#Bài 3\n",
    "song = \"Sống\" #Đầu tiên khai báo 1 biến để lưu từ sống\n",
    "print('\"',f\"{song} không giận, không hờn không oán trách\")\n",
    "print(f\"{song} mỉm cười, với thử thách chông gai\")\n",
    "print(f\"{song} vươn lên, theo kịp ánh ban mai\")\n",
    "print(f\"{song} chan hòa, với những người chung {song.lower()}.\")\n",
    "print() #cách khổ\n",
    "print(f\"{song} là động, nhưng lòng luôn bất động\")\n",
    "print(f\"{song} là thương, nhưng chẳng vướng lụy vương\")\n",
    "print(f\"{song} yên vui, danh lợi mãi coi thường\")\n",
    "print(\"Tâm bất biến, giữa dòng đời vạn biến.\",'\"')\n",
    "#tiền tố f trong các hàm là f-string (formatted string literal). Cú pháp: tiền tố f trước dấu '/\"/''' cho phép chèn biểu thức bên trong {}."
   ]
  },
  {
   "cell_type": "markdown",
   "id": "d36ea3d3",
   "metadata": {},
   "source": [
    "## Lab 1 - Bài 4"
   ]
  },
  {
   "cell_type": "code",
   "execution_count": null,
   "id": "4c707ec1",
   "metadata": {},
   "outputs": [
    {
     "name": "stdout",
     "output_type": "stream",
     "text": [
      "Delta =  -124.0\n",
      "Căn delta < 0 --> không có căn bậc 2\n"
     ]
    }
   ],
   "source": [
    "import math\n",
    "#nhập hệ số\n",
    "a = float(input(\"a: \"))\n",
    "b = float(input(\"b: \"))\n",
    "c = float(input(\"c: \"))\n",
    "#tính delta, công thức: b^2-4ac\n",
    "delta = b * b - 4 * a * c\n",
    "#kết quả\n",
    "print(\"Delta = \", delta)\n",
    "#kiểm tra để tính căn delta\n",
    "if delta >= 0:\n",
    "    can_delta = math.sqrt(delta)\n",
    "    print(\"Căn delta = \", can_delta)\n",
    "else:\n",
    "    print(\"Căn delta < 0 --> không có căn bậc 2\")"
   ]
  },
  {
   "cell_type": "markdown",
   "id": "e2b41d4a",
   "metadata": {},
   "source": [
    "## Lab 1 - Bài 5: bài tập làm thêm"
   ]
  },
  {
   "cell_type": "code",
   "execution_count": null,
   "id": "0e0172f7",
   "metadata": {},
   "outputs": [],
   "source": [
    "# code lab 1  bài làm thêm ở đây "
   ]
  }
 ],
 "metadata": {
  "kernelspec": {
   "display_name": "Python 3",
   "language": "python",
   "name": "python3"
  },
  "language_info": {
   "codemirror_mode": {
    "name": "ipython",
    "version": 3
   },
   "file_extension": ".py",
   "mimetype": "text/x-python",
   "name": "python",
   "nbconvert_exporter": "python",
   "pygments_lexer": "ipython3",
   "version": "3.13.5"
  }
 },
 "nbformat": 4,
 "nbformat_minor": 5
}
