{
 "cells": [
  {
   "cell_type": "markdown",
   "id": "fdeff819",
   "metadata": {},
   "source": [
    "# Sinh Viên thực hiện Lab 7 ở Đây"
   ]
  },
  {
   "cell_type": "markdown",
   "id": "acc5d7dc",
   "metadata": {},
   "source": [
    "## Lab 7 - Bài 1"
   ]
  },
  {
   "cell_type": "code",
   "execution_count": 34,
   "id": "001e0507",
   "metadata": {},
   "outputs": [
    {
     "name": "stdout",
     "output_type": "stream",
     "text": [
      "Tự nguyện\n",
      "Trương Quốc Khánh\n",
      "Nếu là chim, tôi sẽ là loài bồ câu trắng\n",
      "Nếu là hoa, tôi sẽ là một đóa hướng dương\n",
      "Nếu là mây, tôi sẽ là một vầng mây ấm\n",
      "Là người, tôi sẽ chết cho quê hương.\n",
      "\n",
      "Là chim, tôi sẽ cất cao đôi cánh mềm\n",
      "Từ nam ra ngoài bắc báo tin nối liền\n",
      "Là hoa, tôi nở tình yêu ban sớm\n",
      "Cùng muôn trái tim ngất ngây hoà bình.\n",
      "\n",
      "Là mây, theo làn gió tung bay khắp trời\n",
      "Nghìn xưa oai hùng đó tôi xin tiếp lời\n",
      "Là người, xin một lần khi nằm xuống\n",
      "Nhìn anh em đứng lên phất cao ngọn cờ.\n",
      "Ten bai tho la:  Tự nguyện\n",
      "Ten tac gia la:  Trương Quốc Khánh\n",
      "\n"
     ]
    }
   ],
   "source": [
    "#Doc file va in bai tho ra\n",
    "with open(\"Resources.txt\", \"r\", encoding = \"utf-8\") as f:\n",
    "    file = f.read()\n",
    "print(file)\n",
    "#Doc 9 ki tu dau va in ra ten bai tho\n",
    "with open(\"Resources.txt\", \"r\", encoding = \"utf-8\") as f:\n",
    "    file = f.read(9)\n",
    "print(\"Ten bai tho la: \",file)\n",
    "#Doc dong thu 2 va in ra ten tac gia\n",
    "with open(\"Resources.txt\", \"r\", encoding = \"utf-8\") as f:\n",
    "    file = f.readlines()\n",
    "print(\"Ten tac gia la: \",file[1])\n"
   ]
  },
  {
   "cell_type": "markdown",
   "id": "c0835310",
   "metadata": {},
   "source": [
    "## Lab 7 - Bài 2"
   ]
  },
  {
   "cell_type": "code",
   "execution_count": 35,
   "id": "fa9cb39f",
   "metadata": {},
   "outputs": [],
   "source": [
    "with open(\"Lab7- Resource2.txt\", \"w\", encoding = \"utf-8\") as file:\n",
    "    file.write('\"...')\n",
    "    file.write('Nếu một mai tôi có bay lên trời\\n')\n",
    "    file.write('Thì người ơi tôi đã sống rất thảnh thơi\\n')\n",
    "    file.write('Nếu một mai tôi có đi qua đời\\n')\n",
    "    file.write('Thì người ơi tôi đã sống rất tuyệt vời\\n')\n",
    "    file.write('...\"')"
   ]
  },
  {
   "cell_type": "markdown",
   "id": "0f2483fe",
   "metadata": {},
   "source": [
    "## Lab 7 - Bài 3"
   ]
  },
  {
   "cell_type": "code",
   "execution_count": 36,
   "id": "7034990b",
   "metadata": {},
   "outputs": [
    {
     "name": "stdout",
     "output_type": "stream",
     "text": [
      "\n",
      "--- Bài thơ thứ 1 ---\n",
      "\n",
      " Đã lưu thông tin 1 bài thơ vào file 'hihi' thành công!\n"
     ]
    }
   ],
   "source": [
    "#Nhap ten file\n",
    "tenfile = input(\"Ten file csv la: \")\n",
    "#Mo file o che do ghi (w mode)\n",
    "with open(tenfile, \"w\", encoding=\"utf-8\") as f:\n",
    "    # Ghi tieu de\n",
    "    f.write(\"Tiêu đề,Tác giả,Năm sáng tác\\n\")\n",
    "    n = int(input(\"Nhập số lượng bài thơ cần lưu : \"))\n",
    "    for i in range(n):\n",
    "        print(f\"\\n--- Bài thơ thứ {i+1} ---\")\n",
    "        tieu_de = input(\"Tiêu đề: \")\n",
    "        tac_gia = input(\"Tác giả: \")\n",
    "        nam_sang_tac = input(\"Năm sáng tác: \")\n",
    "        #Ghi mot dong vao file\n",
    "        line = f\"{tieu_de},{tac_gia},{nam_sang_tac}\\n\"\n",
    "        f.write(line)\n",
    "\n",
    "print(f\"\\n Đã lưu thông tin {n} bài thơ vào file '{tenfile}' thành công!\")"
   ]
  },
  {
   "cell_type": "markdown",
   "id": "d36ea3d3",
   "metadata": {},
   "source": [
    "## Lab 7 - Bài 4"
   ]
  },
  {
   "cell_type": "code",
   "execution_count": 39,
   "id": "4c707ec1",
   "metadata": {},
   "outputs": [],
   "source": [
    "tieu_de = \"Tự nguyện\"\n",
    "tac_gia = \"Trương Quốc Khánh\"\n",
    "doantho = [\"Nếu là chim, tôi sẽ là loài bồ câu trắng, tôi sẽ là một đóa hướng dương, tôi sẽ là một vầng mây ấm, tôi sẽ chết cho quê hương.\",\n",
    "\"Là chim, tôi sẽ cất cao đôi cánh mềm, từ nam ra ngoài bắc báo tin nối liền, là hoa, tôi nở tình yêu ban sớm, cùng muôn trái tim ngất ngây hoà bình.\",\n",
    "\"Là mây, theo làn gió tung bay khắp trời, nghìn xưa oai hùng đó tôi xin tiếp lời, là người xin một lần khi nằm xuống, nhìn anh em đứng lên phất cao ngọn cờ.\"]\n",
    "with open(\"Resourse.xml\", \"w\", encoding = \"utf-8\") as file:\n",
    "    file.write(\"<songs>\\n\")\n",
    "    file.write(\"\\t<song>\\n\")\n",
    "    file.write(\"\\t\\t<name>{}</name>\\n\".format(tieu_de))\n",
    "    file.write(\"\\t\\t\\t<tacgia>{}</tacgia>\\n\".format(tac_gia))\n",
    "    for i in doantho:\n",
    "        file.write(f\"\\t\\t\\t\\t<doantho>{i}</doantho>\\n\")\n",
    "    file.write(\"\\t<song>\\n\")\n",
    "    file.write(\"<songs>\\n\")"
   ]
  },
  {
   "cell_type": "markdown",
   "id": "e2b41d4a",
   "metadata": {},
   "source": [
    "## Lab 7 - Bài 5: bài tập làm thêm"
   ]
  },
  {
   "cell_type": "code",
   "execution_count": null,
   "id": "0e0172f7",
   "metadata": {},
   "outputs": [],
   "source": [
    "# code lab 7  bài làm thêm ở đây "
   ]
  }
 ],
 "metadata": {
  "kernelspec": {
   "display_name": "Python 3",
   "language": "python",
   "name": "python3"
  },
  "language_info": {
   "codemirror_mode": {
    "name": "ipython",
    "version": 3
   },
   "file_extension": ".py",
   "mimetype": "text/x-python",
   "name": "python",
   "nbconvert_exporter": "python",
   "pygments_lexer": "ipython3",
   "version": "3.13.5"
  }
 },
 "nbformat": 4,
 "nbformat_minor": 5
}
